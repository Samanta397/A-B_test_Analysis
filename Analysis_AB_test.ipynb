{
 "cells": [
  {
   "cell_type": "markdown",
   "metadata": {
    "id": "e411f482"
   },
   "source": [
    "## A/B Test Analysis"
   ]
  },
  {
   "cell_type": "markdown",
   "metadata": {
    "ExecuteTime": {
     "end_time": "2022-12-10T17:43:42.137588Z",
     "start_time": "2022-12-10T17:43:42.124712Z"
    },
    "id": "f41183ed"
   },
   "source": [
    "We need to analyze A/B test data from the popular [game Cookie Cats](https://www.facebook.com/cookiecatsgame). It's a classic \"match-three\" puzzle game where the player must connect tiles of the same color to clear the board and win a level. The board also features singing cats :)\n",
    "\n",
    "During gameplay, players encounter gates that force them to wait a certain amount of time before they can progress or make an in-app purchase. In this task block, we will analyze the results of an A/B test in which the first gate in Cookie Cats was moved from level 30 to level 40. Specifically, we will examine the impact on player retention—in other words, we want to understand whether moving the gate 10 levels later had any effect on whether users stopped playing the game earlier or later in terms of the number of days since installing the game.\n",
    "\n",
    "We will be working with data from the file `cookie_cats.csv`. The variables in the dataset are as follows:\n",
    "\n",
    "- userid - a unique number that identifies each player.\n",
    "- version - indicates whether the player was assigned to the control group (gate_30 – gate at level 30) or the test group (gate_40 – gate at level 40).\n",
    "- sum_gamerounds - the number of game rounds played by the player during the first week after installation.\n",
    "- retention_1 - did the player return and start playing 1 day after installation?\n",
    "- retention_7 - did the player return and start playing 7 days after installation?\n",
    "\n",
    "When a player installed the game, they were randomly assigned to either the gate_30 or the gate_40 group."
   ]
  },
  {
   "cell_type": "markdown",
   "metadata": {
    "id": "22f03df4"
   },
   "source": [
    "1. Read the A/B test data into a variable named `df` and display the average value of the `retention_7` metric (7-day retention) by game version. Formulate a hypothesis: which version provides better retention 7 days after game installation?"
   ]
  },
  {
   "cell_type": "code",
   "execution_count": 3,
   "metadata": {
    "id": "MVzMTs-jh22b",
    "scrolled": true
   },
   "outputs": [
    {
     "data": {
      "text/html": [
       "<div>\n",
       "<style scoped>\n",
       "    .dataframe tbody tr th:only-of-type {\n",
       "        vertical-align: middle;\n",
       "    }\n",
       "\n",
       "    .dataframe tbody tr th {\n",
       "        vertical-align: top;\n",
       "    }\n",
       "\n",
       "    .dataframe thead th {\n",
       "        text-align: right;\n",
       "    }\n",
       "</style>\n",
       "<table border=\"1\" class=\"dataframe\">\n",
       "  <thead>\n",
       "    <tr style=\"text-align: right;\">\n",
       "      <th></th>\n",
       "      <th>userid</th>\n",
       "      <th>version</th>\n",
       "      <th>sum_gamerounds</th>\n",
       "      <th>retention_1</th>\n",
       "      <th>retention_7</th>\n",
       "    </tr>\n",
       "  </thead>\n",
       "  <tbody>\n",
       "    <tr>\n",
       "      <th>0</th>\n",
       "      <td>116</td>\n",
       "      <td>gate_30</td>\n",
       "      <td>3</td>\n",
       "      <td>False</td>\n",
       "      <td>False</td>\n",
       "    </tr>\n",
       "    <tr>\n",
       "      <th>1</th>\n",
       "      <td>337</td>\n",
       "      <td>gate_30</td>\n",
       "      <td>38</td>\n",
       "      <td>True</td>\n",
       "      <td>False</td>\n",
       "    </tr>\n",
       "    <tr>\n",
       "      <th>2</th>\n",
       "      <td>377</td>\n",
       "      <td>gate_40</td>\n",
       "      <td>165</td>\n",
       "      <td>True</td>\n",
       "      <td>False</td>\n",
       "    </tr>\n",
       "    <tr>\n",
       "      <th>3</th>\n",
       "      <td>483</td>\n",
       "      <td>gate_40</td>\n",
       "      <td>1</td>\n",
       "      <td>False</td>\n",
       "      <td>False</td>\n",
       "    </tr>\n",
       "    <tr>\n",
       "      <th>4</th>\n",
       "      <td>488</td>\n",
       "      <td>gate_40</td>\n",
       "      <td>179</td>\n",
       "      <td>True</td>\n",
       "      <td>True</td>\n",
       "    </tr>\n",
       "    <tr>\n",
       "      <th>...</th>\n",
       "      <td>...</td>\n",
       "      <td>...</td>\n",
       "      <td>...</td>\n",
       "      <td>...</td>\n",
       "      <td>...</td>\n",
       "    </tr>\n",
       "    <tr>\n",
       "      <th>90184</th>\n",
       "      <td>9999441</td>\n",
       "      <td>gate_40</td>\n",
       "      <td>97</td>\n",
       "      <td>True</td>\n",
       "      <td>False</td>\n",
       "    </tr>\n",
       "    <tr>\n",
       "      <th>90185</th>\n",
       "      <td>9999479</td>\n",
       "      <td>gate_40</td>\n",
       "      <td>30</td>\n",
       "      <td>False</td>\n",
       "      <td>False</td>\n",
       "    </tr>\n",
       "    <tr>\n",
       "      <th>90186</th>\n",
       "      <td>9999710</td>\n",
       "      <td>gate_30</td>\n",
       "      <td>28</td>\n",
       "      <td>True</td>\n",
       "      <td>False</td>\n",
       "    </tr>\n",
       "    <tr>\n",
       "      <th>90187</th>\n",
       "      <td>9999768</td>\n",
       "      <td>gate_40</td>\n",
       "      <td>51</td>\n",
       "      <td>True</td>\n",
       "      <td>False</td>\n",
       "    </tr>\n",
       "    <tr>\n",
       "      <th>90188</th>\n",
       "      <td>9999861</td>\n",
       "      <td>gate_40</td>\n",
       "      <td>16</td>\n",
       "      <td>False</td>\n",
       "      <td>False</td>\n",
       "    </tr>\n",
       "  </tbody>\n",
       "</table>\n",
       "<p>90189 rows × 5 columns</p>\n",
       "</div>"
      ],
      "text/plain": [
       "        userid  version  sum_gamerounds  retention_1  retention_7\n",
       "0          116  gate_30               3        False        False\n",
       "1          337  gate_30              38         True        False\n",
       "2          377  gate_40             165         True        False\n",
       "3          483  gate_40               1        False        False\n",
       "4          488  gate_40             179         True         True\n",
       "...        ...      ...             ...          ...          ...\n",
       "90184  9999441  gate_40              97         True        False\n",
       "90185  9999479  gate_40              30        False        False\n",
       "90186  9999710  gate_30              28         True        False\n",
       "90187  9999768  gate_40              51         True        False\n",
       "90188  9999861  gate_40              16        False        False\n",
       "\n",
       "[90189 rows x 5 columns]"
      ]
     },
     "execution_count": 3,
     "metadata": {},
     "output_type": "execute_result"
    }
   ],
   "source": [
    "import pandas as pd\n",
    "\n",
    "data_path = './data/cookie_cats.csv'\n",
    "df = pd.read_csv(data_path)\n",
    "df"
   ]
  },
  {
   "cell_type": "code",
   "execution_count": 4,
   "metadata": {},
   "outputs": [
    {
     "data": {
      "text/plain": [
       "(0.19020134228187918, 0.18200004396667327)"
      ]
     },
     "execution_count": 4,
     "metadata": {},
     "output_type": "execute_result"
    }
   ],
   "source": [
    "df['retention_7'] = df['retention_7'].astype(int)\n",
    "group_A_retention_7_mean = df['retention_7'][df.version == 'gate_30'].mean()\n",
    "group_B_retention_7_mean = df['retention_7'][df.version == 'gate_40'].mean()\n",
    "group_A_retention_7_mean, group_B_retention_7_mean"
   ]
  },
  {
   "cell_type": "markdown",
   "metadata": {},
   "source": [
    "From the obtained average values, we can assume that the 7-day retention rate after installation is higher in the first group (gate_30)."
   ]
  },
  {
   "cell_type": "markdown",
   "metadata": {
    "id": "74e9c6ca"
   },
   "source": [
    "2. Use a z-test, as shown in the lecture example, to check whether one of the game versions results in a better `retention_7` rate at a significance level of 0.05. Also, compute the confidence intervals for both samples. Display the result in the following format:\n",
    "```\n",
    "z statistic: ...\n",
    "p-value: ...\n",
    "95% confidence interval for the group control: [..., ...]\n",
    "95% confidence interval for the group treatment: [..., ...]\n",
    "```\n",
    "where instead of `...` - calculated values. As a conclusion, answer two questions: \n",
    "    1. is there a statistically significant difference between the behavior of users in different versions of the game?   \n",
    "    2. do the confidence intervals for user retention in different versions of the game overlap? What does this indicate?  \n",
    "    \n",
    "Note that in such tasks, we use a `proportion` Z-test. This is because our dependent variable has a binary value (whether the user returns or not, or whether the user clicks or not in other situations – only two possible values for the variable: 0/1, True/False). If we were measuring, for example, whether there is a statistically significant difference in the weight of men and women in a certain sample, we would use the `statsmodels.stats.ztest`, function, because the dependent variable `вага` is continuous (of type float, instead of int or bool with only two possible values)."
   ]
  },
  {
   "cell_type": "code",
   "execution_count": 8,
   "metadata": {
    "id": "kXQE4gyjh5MS"
   },
   "outputs": [
    {
     "name": "stdout",
     "output_type": "stream",
     "text": [
      "z statistic: 3.16\n",
      "p-value: 0.002\n",
      "95% confidence interval for the group control: [0.187, 0.194]\n",
      "95% confidence interval for the group treatment: [0.178, 0.186]\n"
     ]
    }
   ],
   "source": [
    "from statsmodels.stats.proportion import proportions_ztest, proportion_confint\n",
    "\n",
    "group_A_results = df['retention_7'][df.version == 'gate_30']\n",
    "group_B_results = df['retention_7'][df.version == 'gate_40']\n",
    "\n",
    "n_group_A = group_A_results.count()\n",
    "n_group_B = group_B_results.count()\n",
    "successes = [group_A_results.sum(), group_B_results.sum()]\n",
    "nobs = [n_group_A, n_group_B]\n",
    "\n",
    "z_stat, pval = proportions_ztest(successes, nobs=nobs)\n",
    "(lower_con, lower_treat), (upper_con, upper_treat) = proportion_confint(successes, nobs=nobs, alpha=0.05)\n",
    "\n",
    "print(f'z statistic: {z_stat:.2f}')\n",
    "print(f'p-value: {pval:.3f}')\n",
    "print(f'95% confidence interval for the group control: [{lower_con:.3f}, {upper_con:.3f}]')\n",
    "print(f'95% confidence interval for the group treatment: [{lower_treat:.3f}, {upper_treat:.3f}]')"
   ]
  },
  {
   "cell_type": "markdown",
   "metadata": {},
   "source": [
    "There is a statistically significant difference between the groups gate_30 and gate_40, as the obtained p-value is 0.02, which is less than the significance level of 0.05. The confidence intervals for the groups do not overlap, which further confirms the presence of a statistically significant difference between the groups."
   ]
  },
  {
   "cell_type": "markdown",
   "metadata": {
    "ExecuteTime": {
     "end_time": "2022-12-10T20:50:10.709766Z",
     "start_time": "2022-12-10T20:50:10.639999Z"
    },
    "id": "076cd867"
   },
   "source": [
    "3. here is another type of test used for binary metrics like \"will the user take an action or not\" -  [**the Chi-square test**](https://www.bmj.com/about-bmj/resources-readers/publications/statistics-square-one/8-chi-squared-tests) (here is another  [explanation](https://www.scribbr.com/statistics/chi-square-tests/)  of the test with examples).  It has different null (H0) and alternative (H1) hypotheses compared to the z- and t-tests. Additionally, this test can be used if we have more than two groups under investigation, meaning it's not an A/B test, but rather an A/B/C/D test, for example.  \n",
    "\n",
    "In **z- and t-тестах** (which differ in that in the former, we do not know the population variance, but if we have a large dataset, these two tests yield very similar results) **we check if there is a difference in the mean values between user groups**.  \n",
    "\n",
    "In the **Chi-square test, we check if there is a relationship between the user group and whether they will take the desired action**. It's essentially investigating the same thing, but in a slightly different way. To verify, we can perform multiple tests (especially if one gives an inconclusive result like a p-value of 0.07 — it seems like fail to reject H0 at the 5% significance level, but it’s interesting to see what other tests say), so we will also do a Chi-square test and compare its result with the z-test.\n",
    "\n",
    "You can read more about the differences between tests [here](https://stats.stackexchange.com/a/178860) - this is just an explanation from a StackOverflow user, but there are smart people there.\n",
    "\n",
    "To perform the Chi-square test, we will use the function from `scipy.stats` `chi2_contingency` to compute the Chi-square statistic and p-value for hypothesis testing. You need to pass a 2x2 table to this function: the number of cases for each game version and the value of `retention_7`.\n",
    "\n",
    "**Task**: perform the Chi-square test at the 5% significance level to determine if there is a relationship between the game version and whether the player returns on the 7th day after installing the game. \n",
    "The hypotheses are as follows:\n",
    "- H0: The value of retention_7 is independent of the game version.\n",
    "- H1: There is a relationship between the game version and the value of retention_7.\n",
    "\n",
    "Output the p-value and draw a conclusion.\n"
   ]
  },
  {
   "cell_type": "code",
   "execution_count": 10,
   "metadata": {
    "id": "kcwD-91Fh84n"
   },
   "outputs": [],
   "source": [
    "from scipy.stats import chi2_contingency"
   ]
  },
  {
   "cell_type": "code",
   "execution_count": 37,
   "metadata": {},
   "outputs": [
    {
     "data": {
      "text/html": [
       "<div>\n",
       "<style scoped>\n",
       "    .dataframe tbody tr th:only-of-type {\n",
       "        vertical-align: middle;\n",
       "    }\n",
       "\n",
       "    .dataframe tbody tr th {\n",
       "        vertical-align: top;\n",
       "    }\n",
       "\n",
       "    .dataframe thead th {\n",
       "        text-align: right;\n",
       "    }\n",
       "</style>\n",
       "<table border=\"1\" class=\"dataframe\">\n",
       "  <thead>\n",
       "    <tr style=\"text-align: right;\">\n",
       "      <th></th>\n",
       "      <th>True</th>\n",
       "      <th>False</th>\n",
       "    </tr>\n",
       "  </thead>\n",
       "  <tbody>\n",
       "    <tr>\n",
       "      <th>Group A</th>\n",
       "      <td>8502</td>\n",
       "      <td>36198</td>\n",
       "    </tr>\n",
       "    <tr>\n",
       "      <th>Group B</th>\n",
       "      <td>8279</td>\n",
       "      <td>37210</td>\n",
       "    </tr>\n",
       "  </tbody>\n",
       "</table>\n",
       "</div>"
      ],
      "text/plain": [
       "         True  False\n",
       "Group A  8502  36198\n",
       "Group B  8279  37210"
      ]
     },
     "execution_count": 37,
     "metadata": {},
     "output_type": "execute_result"
    }
   ],
   "source": [
    "group_A_true_count = df[(df.version == 'gate_30') & (df['retention_7'] == 1)]['retention_7'].count()\n",
    "group_A_false_count = df[(df.version == 'gate_30') & (df['retention_7'] == 0)]['retention_7'].count()\n",
    "group_B_true_count = df[(df.version == 'gate_40') & (df['retention_7'] == 1)]['retention_7'].count()\n",
    "group_B_false_count = df[(df.version == 'gate_40') & (df['retention_7'] == 0)]['retention_7'].count()\n",
    "\n",
    "group_A_true_count, group_A_false_count, group_B_true_count, group_B_false_count\n",
    "\n",
    "observed_table = pd.DataFrame({\n",
    "    \"True\": [group_A_true_count, group_B_true_count],  \n",
    "    \"False\": [group_A_false_count, group_B_false_count]\n",
    "}, index=[\"Group A\", \"Group B\"])\n",
    "observed_table"
   ]
  },
  {
   "cell_type": "code",
   "execution_count": 42,
   "metadata": {},
   "outputs": [
    {
     "name": "stdout",
     "output_type": "stream",
     "text": [
      "chi2_stat =  9.959086799559165\n",
      "p_value =  0.0016005742679058301\n",
      "dof =  1\n",
      "expected =  [[ 8317.09742873 36382.90257127]\n",
      " [ 8463.90257127 37025.09742873]]\n"
     ]
    }
   ],
   "source": [
    "chi2_stat, p_value, dof, expected = chi2_contingency(observed_table)\n",
    "\n",
    "print('chi2_stat = ', chi2_stat)\n",
    "print('p_value = ', p_value)\n",
    "print('dof = ', dof)\n",
    "print('expected = ', expected)"
   ]
  },
  {
   "cell_type": "markdown",
   "metadata": {},
   "source": [
    "The obtained p-value is 0.0016, which is less than the significance level of 0.05. Therefore, we reject the null hypothesis that the value of retention_7 is independent of the game version."
   ]
  },
  {
   "cell_type": "code",
   "execution_count": null,
   "metadata": {},
   "outputs": [],
   "source": []
  }
 ],
 "metadata": {
  "colab": {
   "provenance": []
  },
  "kernelspec": {
   "display_name": "Python 3 (ipykernel)",
   "language": "python",
   "name": "python3"
  },
  "language_info": {
   "codemirror_mode": {
    "name": "ipython",
    "version": 3
   },
   "file_extension": ".py",
   "mimetype": "text/x-python",
   "name": "python",
   "nbconvert_exporter": "python",
   "pygments_lexer": "ipython3",
   "version": "3.8.10"
  }
 },
 "nbformat": 4,
 "nbformat_minor": 4
}
